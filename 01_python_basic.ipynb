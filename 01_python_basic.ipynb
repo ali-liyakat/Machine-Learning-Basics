{
  "nbformat": 4,
  "nbformat_minor": 0,
  "metadata": {
    "colab": {
      "provenance": [],
      "authorship_tag": "ABX9TyPa553uVKby6qqyZ2BIL5eS",
      "include_colab_link": true
    },
    "kernelspec": {
      "name": "python3",
      "display_name": "Python 3"
    },
    "language_info": {
      "name": "python"
    }
  },
  "cells": [
    {
      "cell_type": "markdown",
      "metadata": {
        "id": "view-in-github",
        "colab_type": "text"
      },
      "source": [
        "<a href=\"https://colab.research.google.com/github/ali-liyakat/Machine-Learning-Basics/blob/main/01_python_basic.ipynb\" target=\"_parent\"><img src=\"https://colab.research.google.com/assets/colab-badge.svg\" alt=\"Open In Colab\"/></a>"
      ]
    },
    {
      "cell_type": "markdown",
      "source": [
        "input and output in python"
      ],
      "metadata": {
        "id": "pG77vuB2aHh9"
      }
    },
    {
      "cell_type": "code",
      "source": [
        "print(\"laerning python\")"
      ],
      "metadata": {
        "colab": {
          "base_uri": "https://localhost:8080/"
        },
        "id": "0AynbLIKZb7G",
        "outputId": "0e042612-508e-47b9-bbe8-7d3ba4081bf6"
      },
      "execution_count": 1,
      "outputs": [
        {
          "output_type": "stream",
          "name": "stdout",
          "text": [
            "laerning python\n"
          ]
        }
      ]
    },
    {
      "cell_type": "code",
      "source": [
        "print('hello world')"
      ],
      "metadata": {
        "colab": {
          "base_uri": "https://localhost:8080/"
        },
        "id": "Te2XOu1zZg-Q",
        "outputId": "49b50db8-429e-4fa8-bd00-58db9a7756b1"
      },
      "execution_count": 2,
      "outputs": [
        {
          "output_type": "stream",
          "name": "stdout",
          "text": [
            "hello world\n"
          ]
        }
      ]
    },
    {
      "cell_type": "code",
      "source": [
        "num1=input(\"enter number \")\n",
        "print(num1)"
      ],
      "metadata": {
        "colab": {
          "base_uri": "https://localhost:8080/"
        },
        "id": "yY-SkgfCZomp",
        "outputId": "595a492f-442b-4203-db77-a7bfe789bfc7"
      },
      "execution_count": 5,
      "outputs": [
        {
          "output_type": "stream",
          "name": "stdout",
          "text": [
            "enter number 5\n",
            "5\n"
          ]
        }
      ]
    },
    {
      "cell_type": "code",
      "source": [
        "name=input(\"enter name \")\n",
        "print(name)"
      ],
      "metadata": {
        "colab": {
          "base_uri": "https://localhost:8080/"
        },
        "id": "6tMo19G5Z0gK",
        "outputId": "9ae81d42-bf76-4794-e3a1-bf67d52db4bc"
      },
      "execution_count": 6,
      "outputs": [
        {
          "output_type": "stream",
          "name": "stdout",
          "text": [
            "enter nameali\n",
            "ali\n"
          ]
        }
      ]
    },
    {
      "cell_type": "markdown",
      "source": [
        "note:- the input method takes everything as string in python"
      ],
      "metadata": {
        "id": "T4DGTCQqahx9"
      }
    }
  ]
}